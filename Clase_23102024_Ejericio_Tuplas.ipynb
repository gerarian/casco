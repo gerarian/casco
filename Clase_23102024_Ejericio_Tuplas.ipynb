{
  "nbformat": 4,
  "nbformat_minor": 0,
  "metadata": {
    "colab": {
      "provenance": [],
      "authorship_tag": "ABX9TyOorTkSL+biVpjiSrINgGFx",
      "include_colab_link": true
    },
    "kernelspec": {
      "name": "python3",
      "display_name": "Python 3"
    },
    "language_info": {
      "name": "python"
    }
  },
  "cells": [
    {
      "cell_type": "markdown",
      "metadata": {
        "id": "view-in-github",
        "colab_type": "text"
      },
      "source": [
        "<a href=\"https://colab.research.google.com/github/gerarian/casco/blob/master/Clase_23102024_Ejericio_Tuplas.ipynb\" target=\"_parent\"><img src=\"https://colab.research.google.com/assets/colab-badge.svg\" alt=\"Open In Colab\"/></a>"
      ]
    },
    {
      "cell_type": "code",
      "execution_count": null,
      "metadata": {
        "id": "HT94EWxZFshl"
      },
      "outputs": [],
      "source": [
        "#Realiza un programa que siga las siguientes instrucciones: Crea un conjunto llamado usuarios con\n",
        "#los usuarios Marta, David, Elvira, Juan y Marcos. Crea un conjunto llamado administradores con los\n",
        "# administradores Juan y Marta. Borra al administrador Juan del conjunto de administradores. Añade a\n",
        "#Marcos como un nuevo administrador, pero no lo borres del conjunto de usuarios. Muestra todos los\n",
        "#usuarios por pantalla de forma dinámica, además debes indicar si cada usuario es administrador o no.\n",
        "#Nota: Los conjuntos se pueden recorrer dinámicamente utilizando el bucle for de forma similar a una lista.\n",
        "#También cuentan con un método llamado .discard(elemento) que sirve para borrar un elemento.\n",
        "\n",
        "empleado={\"Martha\",\"David\",\"Elvira\",\"Juan\",\"Marcos\"}\n",
        "administradores={\"Juan\",\"Martha\"}\n",
        "\n",
        "print(empleado)\n",
        "print(\"Grupo administradores: \",administradores)\n",
        "\n",
        "administradores.discard(\"Juan\")\n",
        "print(\"Grupo administradores actualizado: \",administradores)\n",
        "\n",
        "administradores.add(\"Marcos\")\n",
        "print(\"Grupo administradores actualizado: \",administradores)\n",
        "\n",
        "for usuario in empleado:\n",
        "  if usuario in administradores:\n",
        "    print(usuario, \"es admin\")\n",
        "  else:\n",
        "    print(usuario, \"no es admin\")\n"
      ]
    }
  ]
}